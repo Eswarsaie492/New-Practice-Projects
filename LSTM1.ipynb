{
 "cells": [
  {
   "cell_type": "code",
   "execution_count": 1,
   "metadata": {},
   "outputs": [],
   "source": [
    "#import packages\n",
    "\n",
    "import pandas as pd\n",
    "import numpy as np\n",
    "import matplotlib.pyplot as plt\n",
    "%matplotlib inline\n",
    "\n",
    "import nltk\n",
    "from nltk.tokenize import word_tokenize, sent_tokenize\n",
    "from nltk.stem import WordNetLemmatizer\n",
    "from nltk.corpus import stopwords\n",
    "from nltk import tokenize\n",
    "\n",
    "import re\n",
    "from wordcloud import WordCloud, STOPWORDS\n",
    "\n",
    "import warnings\n",
    "warnings.filterwarnings(\"ignore\")"
   ]
  },
  {
   "cell_type": "code",
   "execution_count": 2,
   "metadata": {},
   "outputs": [],
   "source": [
    "train = pd.read_csv(\"train.tsv\",sep='\\t')\n",
    "test = pd.read_csv(\"test.tsv\",sep='\\t')"
   ]
  },
  {
   "cell_type": "code",
   "execution_count": 3,
   "metadata": {},
   "outputs": [
    {
     "data": {
      "text/html": [
       "<div>\n",
       "<style scoped>\n",
       "    .dataframe tbody tr th:only-of-type {\n",
       "        vertical-align: middle;\n",
       "    }\n",
       "\n",
       "    .dataframe tbody tr th {\n",
       "        vertical-align: top;\n",
       "    }\n",
       "\n",
       "    .dataframe thead th {\n",
       "        text-align: right;\n",
       "    }\n",
       "</style>\n",
       "<table border=\"1\" class=\"dataframe\">\n",
       "  <thead>\n",
       "    <tr style=\"text-align: right;\">\n",
       "      <th></th>\n",
       "      <th>PhraseId</th>\n",
       "      <th>SentenceId</th>\n",
       "      <th>Phrase</th>\n",
       "      <th>Sentiment</th>\n",
       "    </tr>\n",
       "  </thead>\n",
       "  <tbody>\n",
       "    <tr>\n",
       "      <th>0</th>\n",
       "      <td>1</td>\n",
       "      <td>1</td>\n",
       "      <td>A series of escapades demonstrating the adage ...</td>\n",
       "      <td>1</td>\n",
       "    </tr>\n",
       "    <tr>\n",
       "      <th>1</th>\n",
       "      <td>2</td>\n",
       "      <td>1</td>\n",
       "      <td>A series of escapades demonstrating the adage ...</td>\n",
       "      <td>2</td>\n",
       "    </tr>\n",
       "    <tr>\n",
       "      <th>2</th>\n",
       "      <td>3</td>\n",
       "      <td>1</td>\n",
       "      <td>A series</td>\n",
       "      <td>2</td>\n",
       "    </tr>\n",
       "    <tr>\n",
       "      <th>3</th>\n",
       "      <td>4</td>\n",
       "      <td>1</td>\n",
       "      <td>A</td>\n",
       "      <td>2</td>\n",
       "    </tr>\n",
       "    <tr>\n",
       "      <th>4</th>\n",
       "      <td>5</td>\n",
       "      <td>1</td>\n",
       "      <td>series</td>\n",
       "      <td>2</td>\n",
       "    </tr>\n",
       "  </tbody>\n",
       "</table>\n",
       "</div>"
      ],
      "text/plain": [
       "   PhraseId  SentenceId                                             Phrase  \\\n",
       "0         1           1  A series of escapades demonstrating the adage ...   \n",
       "1         2           1  A series of escapades demonstrating the adage ...   \n",
       "2         3           1                                           A series   \n",
       "3         4           1                                                  A   \n",
       "4         5           1                                             series   \n",
       "\n",
       "   Sentiment  \n",
       "0          1  \n",
       "1          2  \n",
       "2          2  \n",
       "3          2  \n",
       "4          2  "
      ]
     },
     "execution_count": 3,
     "metadata": {},
     "output_type": "execute_result"
    }
   ],
   "source": [
    "train.head()"
   ]
  },
  {
   "cell_type": "code",
   "execution_count": 4,
   "metadata": {},
   "outputs": [
    {
     "data": {
      "text/html": [
       "<div>\n",
       "<style scoped>\n",
       "    .dataframe tbody tr th:only-of-type {\n",
       "        vertical-align: middle;\n",
       "    }\n",
       "\n",
       "    .dataframe tbody tr th {\n",
       "        vertical-align: top;\n",
       "    }\n",
       "\n",
       "    .dataframe thead th {\n",
       "        text-align: right;\n",
       "    }\n",
       "</style>\n",
       "<table border=\"1\" class=\"dataframe\">\n",
       "  <thead>\n",
       "    <tr style=\"text-align: right;\">\n",
       "      <th></th>\n",
       "      <th>PhraseId</th>\n",
       "      <th>SentenceId</th>\n",
       "      <th>Phrase</th>\n",
       "    </tr>\n",
       "  </thead>\n",
       "  <tbody>\n",
       "    <tr>\n",
       "      <th>0</th>\n",
       "      <td>156061</td>\n",
       "      <td>8545</td>\n",
       "      <td>An intermittently pleasing but mostly routine ...</td>\n",
       "    </tr>\n",
       "    <tr>\n",
       "      <th>1</th>\n",
       "      <td>156062</td>\n",
       "      <td>8545</td>\n",
       "      <td>An intermittently pleasing but mostly routine ...</td>\n",
       "    </tr>\n",
       "    <tr>\n",
       "      <th>2</th>\n",
       "      <td>156063</td>\n",
       "      <td>8545</td>\n",
       "      <td>An</td>\n",
       "    </tr>\n",
       "    <tr>\n",
       "      <th>3</th>\n",
       "      <td>156064</td>\n",
       "      <td>8545</td>\n",
       "      <td>intermittently pleasing but mostly routine effort</td>\n",
       "    </tr>\n",
       "    <tr>\n",
       "      <th>4</th>\n",
       "      <td>156065</td>\n",
       "      <td>8545</td>\n",
       "      <td>intermittently pleasing but mostly routine</td>\n",
       "    </tr>\n",
       "  </tbody>\n",
       "</table>\n",
       "</div>"
      ],
      "text/plain": [
       "   PhraseId  SentenceId                                             Phrase\n",
       "0    156061        8545  An intermittently pleasing but mostly routine ...\n",
       "1    156062        8545  An intermittently pleasing but mostly routine ...\n",
       "2    156063        8545                                                 An\n",
       "3    156064        8545  intermittently pleasing but mostly routine effort\n",
       "4    156065        8545         intermittently pleasing but mostly routine"
      ]
     },
     "execution_count": 4,
     "metadata": {},
     "output_type": "execute_result"
    }
   ],
   "source": [
    "test.head()"
   ]
  },
  {
   "cell_type": "code",
   "execution_count": 5,
   "metadata": {},
   "outputs": [],
   "source": [
    "train = train.drop(['PhraseId', 'SentenceId'], axis=1)\n",
    "test = test.drop(['PhraseId', 'SentenceId'], axis=1)"
   ]
  },
  {
   "cell_type": "code",
   "execution_count": 6,
   "metadata": {},
   "outputs": [
    {
     "data": {
      "text/plain": [
       "<AxesSubplot:xlabel='Sentiment', ylabel='count'>"
      ]
     },
     "execution_count": 6,
     "metadata": {},
     "output_type": "execute_result"
    },
    {
     "data": {
      "image/png": "[encoded data removed]",
      "text/plain": [
       "<Figure size 432x288 with 1 Axes>"
      ]
     },
     "metadata": {
      "needs_background": "light"
     },
     "output_type": "display_data"
    }
   ],
   "source": [
    "import seaborn as sns\n",
    "sns.countplot(x='Sentiment',data=train)"
   ]
  },
  {
   "cell_type": "code",
   "execution_count": 7,
   "metadata": {},
   "outputs": [
    {
     "data": {
      "text/plain": [
       "0         a series of escapades demonstrating the adage ...\n",
       "1         a series of escapades demonstrating the adage ...\n",
       "2                                                  a series\n",
       "3                                                         a\n",
       "4                                                    series\n",
       "                                ...                        \n",
       "156055                                            hearst 's\n",
       "156056                            forced avuncular chortles\n",
       "156057                                   avuncular chortles\n",
       "156058                                            avuncular\n",
       "156059                                             chortles\n",
       "Name: Phrase, Length: 156060, dtype: object"
      ]
     },
     "execution_count": 7,
     "metadata": {},
     "output_type": "execute_result"
    }
   ],
   "source": [
    "#Lower\n",
    "\n",
    "train['Phrase']=train.Phrase.apply(lambda x: x.lower())\n",
    "train['Phrase']"
   ]
  },
  {
   "cell_type": "code",
   "execution_count": 8,
   "metadata": {},
   "outputs": [
    {
     "data": {
      "text/plain": [
       "0         a series of escapades demonstrating the adage ...\n",
       "1         a series of escapades demonstrating the adage ...\n",
       "2                                                  a series\n",
       "3                                                         a\n",
       "4                                                    series\n",
       "                                ...                        \n",
       "156055                                            hearst  s\n",
       "156056                            forced avuncular chortles\n",
       "156057                                   avuncular chortles\n",
       "156058                                            avuncular\n",
       "156059                                             chortles\n",
       "Name: Phrase, Length: 156060, dtype: object"
      ]
     },
     "execution_count": 8,
     "metadata": {},
     "output_type": "execute_result"
    }
   ],
   "source": [
    "#Punctuations\n",
    "\n",
    "import string\n",
    "\n",
    "def remove_punc(text):\n",
    "    for i in string.punctuation:\n",
    "        text=text.replace(i,' ')\n",
    "    \n",
    "    return text\n",
    "\n",
    "train['Phrase']=train.Phrase.apply(remove_punc)\n",
    "train['Phrase']"
   ]
  },
  {
   "cell_type": "code",
   "execution_count": 9,
   "metadata": {},
   "outputs": [
    {
     "data": {
      "text/plain": [
       "0         series escapades demonstrating adage good goos...\n",
       "1           series escapades demonstrating adage good goose\n",
       "2                                                    series\n",
       "3                                                          \n",
       "4                                                    series\n",
       "                                ...                        \n",
       "156055                                               hearst\n",
       "156056                            forced avuncular chortles\n",
       "156057                                   avuncular chortles\n",
       "156058                                            avuncular\n",
       "156059                                             chortles\n",
       "Name: Phrase, Length: 156060, dtype: object"
      ]
     },
     "execution_count": 9,
     "metadata": {},
     "output_type": "execute_result"
    }
   ],
   "source": [
    "#stopwords\n",
    "\n",
    "stopword_list=stopwords.words('english')\n",
    "stopword_list.remove('no')\n",
    "stopword_list.remove('not')\n",
    "\n",
    "train['Phrase'] = train.Phrase.apply(lambda x : \" \".join(x for x in x.split() if x not in stopword_list))\n",
    "train['Phrase']"
   ]
  },
  {
   "cell_type": "code",
   "execution_count": 10,
   "metadata": {},
   "outputs": [
    {
     "data": {
      "text/plain": [
       "0         [series, escapades, demonstrating, adage, good...\n",
       "1         [series, escapades, demonstrating, adage, good...\n",
       "2                                                  [series]\n",
       "3                                                        []\n",
       "4                                                  [series]\n",
       "                                ...                        \n",
       "156055                                             [hearst]\n",
       "156056                        [forced, avuncular, chortles]\n",
       "156057                                [avuncular, chortles]\n",
       "156058                                          [avuncular]\n",
       "156059                                           [chortles]\n",
       "Name: Phrase, Length: 156060, dtype: object"
      ]
     },
     "execution_count": 10,
     "metadata": {},
     "output_type": "execute_result"
    }
   ],
   "source": [
    "#tokenize\n",
    "\n",
    "train['Phrase']=train.Phrase.apply(word_tokenize)\n",
    "train['Phrase']"
   ]
  },
  {
   "cell_type": "code",
   "execution_count": 11,
   "metadata": {},
   "outputs": [
    {
     "data": {
      "text/plain": [
       "0         [series, escapades, demonstrating, adage, good...\n",
       "1         [series, escapades, demonstrating, adage, good...\n",
       "2                                                  [series]\n",
       "3                                                        []\n",
       "4                                                  [series]\n",
       "                                ...                        \n",
       "156055                                             [hearst]\n",
       "156056                        [forced, avuncular, chortles]\n",
       "156057                                [avuncular, chortles]\n",
       "156058                                          [avuncular]\n",
       "156059                                           [chortles]\n",
       "Name: Phrase, Length: 156060, dtype: object"
      ]
     },
     "execution_count": 11,
     "metadata": {},
     "output_type": "execute_result"
    }
   ],
   "source": [
    "#numbers\n",
    "\n",
    "def remove_numbers(words):\n",
    "    \n",
    "    new_words = []\n",
    "    for word in words:\n",
    "        new_word = re.sub(\"\\d+\", \"\", word)\n",
    "        if new_word != '':\n",
    "            new_words.append(new_word)\n",
    "    return new_words\n",
    "\n",
    "train['Phrase']=train.Phrase.apply(remove_numbers)\n",
    "train['Phrase']"
   ]
  },
  {
   "cell_type": "code",
   "execution_count": 12,
   "metadata": {},
   "outputs": [
    {
     "data": {
      "text/plain": [
       "0         [series, escapades, demonstrate, adage, good, ...\n",
       "1         [series, escapades, demonstrate, adage, good, ...\n",
       "2                                                  [series]\n",
       "3                                                        []\n",
       "4                                                  [series]\n",
       "                                ...                        \n",
       "156055                                             [hearst]\n",
       "156056                          [force, avuncular, chortle]\n",
       "156057                                 [avuncular, chortle]\n",
       "156058                                          [avuncular]\n",
       "156059                                            [chortle]\n",
       "Name: Phrase, Length: 156060, dtype: object"
      ]
     },
     "execution_count": 12,
     "metadata": {},
     "output_type": "execute_result"
    }
   ],
   "source": [
    "#Lemmatize verbs\n",
    "\n",
    "def lemmatize_verbs(words):\n",
    "   \n",
    "    lemmatizer = WordNetLemmatizer()\n",
    "    lemmas = []\n",
    "    for word in words:\n",
    "        lemma = lemmatizer.lemmatize(word, pos='v')\n",
    "        lemmas.append(lemma)\n",
    "    return lemmas\n",
    "\n",
    "train['Phrase']=train.Phrase.apply(lemmatize_verbs)\n",
    "train['Phrase']"
   ]
  },
  {
   "cell_type": "code",
   "execution_count": 13,
   "metadata": {},
   "outputs": [
    {
     "data": {
      "image/png": "[encoded data removed]",
      "text/plain": [
       "<Figure size 576x576 with 1 Axes>"
      ]
     },
     "metadata": {
      "needs_background": "light"
     },
     "output_type": "display_data"
    }
   ],
   "source": [
    "#wordcloud\n",
    "\n",
    "text = train.Phrase.values\n",
    "\n",
    "wordcloud = WordCloud(background_color = 'black', stopwords = STOPWORDS).generate(str(text))\n",
    "fig = plt.figure(figsize = (8,8))\n",
    "plt.imshow(wordcloud, interpolation = 'bilinear')\n",
    "plt.axis(\"off\")\n",
    "plt.show()"
   ]
  },
  {
   "cell_type": "code",
   "execution_count": 14,
   "metadata": {},
   "outputs": [
    {
     "data": {
      "text/plain": [
       "0    [9808, 152, 7024, 7339, 4990, 835, 4194, 4990,...\n",
       "1                   [9808, 152, 7024, 7339, 4990, 835]\n",
       "2                                               [9808]\n",
       "3                                                   []\n",
       "4                                               [9808]\n",
       "Name: Tokens, dtype: object"
      ]
     },
     "execution_count": 14,
     "metadata": {},
     "output_type": "execute_result"
    }
   ],
   "source": [
    "word_set = set()\n",
    "for l in train['Phrase']:\n",
    "    for e in l:\n",
    "        word_set.add(e)\n",
    "        \n",
    "word_to_int = {word: i for i, word in enumerate(word_set, 1)}\n",
    "\n",
    "\n",
    "train['Tokens'] = train['Phrase'].apply(lambda l: [word_to_int[word] for word in l])\n",
    "train['Tokens'].head()"
   ]
  },
  {
   "cell_type": "code",
   "execution_count": 15,
   "metadata": {},
   "outputs": [],
   "source": [
    "from tensorflow.keras.models import Sequential\n",
    "from tensorflow.keras.layers import Dense, Embedding, LSTM\n",
    "\n",
    "from tensorflow.keras.utils import to_categorical\n",
    "\n",
    "from tensorflow.keras.preprocessing import sequence\n",
    "from tensorflow.keras.preprocessing.text import Tokenizer\n",
    "from tensorflow.keras.preprocessing.sequence import pad_sequences"
   ]
  },
  {
   "cell_type": "code",
   "execution_count": 16,
   "metadata": {},
   "outputs": [
    {
     "data": {
      "text/plain": [
       "30"
      ]
     },
     "execution_count": 16,
     "metadata": {},
     "output_type": "execute_result"
    }
   ],
   "source": [
    "max_len = train['Tokens'].str.len().max()\n",
    "max_len"
   ]
  },
  {
   "cell_type": "code",
   "execution_count": 17,
   "metadata": {},
   "outputs": [],
   "source": [
    "#Split\n",
    "\n",
    "X_train = train.Phrase\n",
    "y_train = train.Sentiment\n",
    "\n",
    "X_test = test.Phrase"
   ]
  },
  {
   "cell_type": "code",
   "execution_count": 18,
   "metadata": {},
   "outputs": [],
   "source": [
    "tokenize = Tokenizer()\n",
    "tokenize.fit_on_texts(X_train.values)"
   ]
  },
  {
   "cell_type": "code",
   "execution_count": 19,
   "metadata": {},
   "outputs": [],
   "source": [
    "X_train = tokenize.texts_to_sequences(X_train)\n",
    "X_train = pad_sequences(X_train, max_len)"
   ]
  },
  {
   "cell_type": "code",
   "execution_count": 20,
   "metadata": {},
   "outputs": [],
   "source": [
    "X_test = tokenize.texts_to_sequences(X_test)\n",
    "X_test = pad_sequences(X_test, max_len)"
   ]
  },
  {
   "cell_type": "code",
   "execution_count": 21,
   "metadata": {},
   "outputs": [
    {
     "name": "stdout",
     "output_type": "stream",
     "text": [
      "(156060, 30)\n",
      "(66292, 30)\n"
     ]
    }
   ],
   "source": [
    "print(X_train.shape)\n",
    "print(X_test.shape)"
   ]
  },
  {
   "cell_type": "code",
   "execution_count": 22,
   "metadata": {},
   "outputs": [
    {
     "name": "stdout",
     "output_type": "stream",
     "text": [
      "Model: \"sequential\"\n",
      "_________________________________________________________________\n",
      "Layer (type)                 Output Shape              Param #   \n",
      "=================================================================\n",
      "embedding (Embedding)        (None, 30, 128)           1587584   \n",
      "_________________________________________________________________\n",
      "lstm (LSTM)                  (None, 196)               254800    \n",
      "_________________________________________________________________\n",
      "dense (Dense)                (None, 5)                 985       \n",
      "=================================================================\n",
      "Total params: 1,843,369\n",
      "Trainable params: 1,843,369\n",
      "Non-trainable params: 0\n",
      "_________________________________________________________________\n",
      "None\n"
     ]
    }
   ],
   "source": [
    "#LSTM Model\n",
    "\n",
    "EMBEDDING_DIM = 128\n",
    "lstm_out = 196\n",
    "a = len(tokenize.word_index)+1\n",
    "\n",
    "model = Sequential()\n",
    "model.add(Embedding(a, EMBEDDING_DIM, input_length=max_len))\n",
    "model.add(LSTM(lstm_out, dropout=0.2, recurrent_dropout=0.2 ))\n",
    "model.add(Dense(5, activation='softmax'))\n",
    "model.compile(loss='sparse_categorical_crossentropy', optimizer='adam', metrics=['accuracy'])\n",
    "print(model.summary())"
   ]
  },
  {
   "cell_type": "code",
   "execution_count": 23,
   "metadata": {},
   "outputs": [
    {
     "name": "stdout",
     "output_type": "stream",
     "text": [
      "(156060,)\n",
      "(156060, 30)\n"
     ]
    }
   ],
   "source": [
    "print(y_train.shape)\n",
    "print(X_train.shape)"
   ]
  },
  {
   "cell_type": "code",
   "execution_count": 24,
   "metadata": {},
   "outputs": [
    {
     "name": "stdout",
     "output_type": "stream",
     "text": [
      "Epoch 1/24\n",
      "1220/1220 [==============================] - 266s 213ms/step - loss: 1.0718 - accuracy: 0.5702\n",
      "Epoch 2/24\n",
      "1220/1220 [==============================] - 259s 212ms/step - loss: 0.7916 - accuracy: 0.6739 - loss: 0.7916 - accuracy\n",
      "Epoch 3/24\n",
      "1220/1220 [==============================] - 2877s 2s/step - loss: 0.7190 - accuracy: 0.6993: 50s - loss\n",
      "Epoch 4/24\n",
      "1220/1220 [==============================] - 260s 213ms/step - loss: 0.6635 - accuracy: 0.7194 - loss: 0.6635 - accura\n",
      "Epoch 5/24\n",
      "1220/1220 [==============================] - 232s 190ms/step - loss: 0.6311 - accuracy: 0.7305\n",
      "Epoch 6/24\n",
      "1220/1220 [==============================] - 239s 196ms/step - loss: 0.6047 - accuracy: 0.7414\n",
      "Epoch 7/24\n",
      "1220/1220 [==============================] - 263s 216ms/step - loss: 0.5819 - accuracy: 0.7501\n",
      "Epoch 8/24\n",
      "1220/1220 [==============================] - 270s 221ms/step - loss: 0.5598 - accuracy: 0.7566 - loss: 0.559\n",
      "Epoch 9/24\n",
      "1220/1220 [==============================] - 275s 226ms/step - loss: 0.5470 - accuracy: 0.7600\n",
      "Epoch 10/24\n",
      "1220/1220 [==============================] - 253s 207ms/step - loss: 0.5282 - accuracy: 0.7666\n",
      "Epoch 11/24\n",
      "1220/1220 [==============================] - 261s 214ms/step - loss: 0.5181 - accuracy: 0.7697\n",
      "Epoch 12/24\n",
      "1220/1220 [==============================] - 264s 216ms/step - loss: 0.5008 - accuracy: 0.7760\n",
      "Epoch 13/24\n",
      "1220/1220 [==============================] - 264s 217ms/step - loss: 0.4887 - accuracy: 0.7793\n",
      "Epoch 14/24\n",
      "1220/1220 [==============================] - 259s 212ms/step - loss: 0.4792 - accuracy: 0.7841\n",
      "Epoch 15/24\n",
      "1220/1220 [==============================] - 367s 301ms/step - loss: 0.4694 - accuracy: 0.7870\n",
      "Epoch 16/24\n",
      "1220/1220 [==============================] - 13955s 11s/step - loss: 0.4603 - accuracy: 0.7889\n",
      "Epoch 17/24\n",
      "1220/1220 [==============================] - 178s 146ms/step - loss: 0.4501 - accuracy: 0.7938\n",
      "Epoch 18/24\n",
      "1220/1220 [==============================] - 167s 137ms/step - loss: 0.4439 - accuracy: 0.7943\n",
      "Epoch 19/24\n",
      "1220/1220 [==============================] - 166s 136ms/step - loss: 0.4357 - accuracy: 0.7985\n",
      "Epoch 20/24\n",
      "1220/1220 [==============================] - 167s 137ms/step - loss: 0.4255 - accuracy: 0.8011\n",
      "Epoch 21/24\n",
      "1220/1220 [==============================] - 166s 136ms/step - loss: 0.4195 - accuracy: 0.8035\n",
      "Epoch 22/24\n",
      "1220/1220 [==============================] - 166s 136ms/step - loss: 0.4143 - accuracy: 0.8048\n",
      "Epoch 23/24\n",
      "1220/1220 [==============================] - 166s 136ms/step - loss: 0.4093 - accuracy: 0.8060\n",
      "Epoch 24/24\n",
      "1220/1220 [==============================] - 166s 136ms/step - loss: 0.4064 - accuracy: 0.8063\n"
     ]
    },
    {
     "data": {
      "text/plain": [
       "<tensorflow.python.keras.callbacks.History at 0x206bbc29c10>"
      ]
     },
     "execution_count": 24,
     "metadata": {},
     "output_type": "execute_result"
    }
   ],
   "source": [
    "#Fitting the model\n",
    "\n",
    "model.fit(X_train, y_train, batch_size=128, epochs=24, verbose=1)"
   ]
  },
  {
   "cell_type": "code",
   "execution_count": null,
   "metadata": {},
   "outputs": [],
   "source": []
  },
  {
   "cell_type": "code",
   "execution_count": 27,
   "metadata": {},
   "outputs": [
    {
     "name": "stdout",
     "output_type": "stream",
     "text": [
      "Model: \"sequential\"\n",
      "_________________________________________________________________\n",
      "Layer (type)                 Output Shape              Param #   \n",
      "=================================================================\n",
      "embedding (Embedding)        (None, 30, 128)           1587584   \n",
      "_________________________________________________________________\n",
      "lstm (LSTM)                  (None, 196)               254800    \n",
      "_________________________________________________________________\n",
      "dense (Dense)                (None, 5)                 985       \n",
      "=================================================================\n",
      "Total params: 1,843,369\n",
      "Trainable params: 1,843,369\n",
      "Non-trainable params: 0\n",
      "_________________________________________________________________\n",
      "None\n"
     ]
    }
   ],
   "source": [
    "#Stacked LSTM\n",
    "\n",
    "EMBEDDING_DIM = 128\n",
    "lstm_out = 196\n",
    "a = len(tokenize.word_index)+1\n",
    "\n",
    "model2 = Sequential()\n",
    "model2.add(Embedding(a, EMBEDDING_DIM, input_length=max_len))\n",
    "model2.add(LSTM(lstm_out, return_sequences=True, dropout=0.2, recurrent_dropout=0.2))\n",
    "model2.add(LSTM(lstm_out))\n",
    "\n",
    "model2.add(Dense(5, activation='softmax'))\n",
    "model2.compile(loss='sparse_categorical_crossentropy', optimizer='adam', metrics=['accuracy'])\n",
    "print(model.summary())"
   ]
  },
  {
   "cell_type": "code",
   "execution_count": 28,
   "metadata": {},
   "outputs": [
    {
     "name": "stdout",
     "output_type": "stream",
     "text": [
      "Epoch 1/24\n",
      "1220/1220 [==============================] - 278s 224ms/step - loss: 1.0735 - accuracy: 0.5720\n",
      "Epoch 2/24\n",
      "1220/1220 [==============================] - 271s 222ms/step - loss: 0.8018 - accuracy: 0.6674\n",
      "Epoch 3/24\n",
      "1220/1220 [==============================] - 268s 220ms/step - loss: 0.7326 - accuracy: 0.6947\n",
      "Epoch 4/24\n",
      "1220/1220 [==============================] - 268s 220ms/step - loss: 0.6827 - accuracy: 0.7151\n",
      "Epoch 5/24\n",
      "1220/1220 [==============================] - 270s 221ms/step - loss: 0.6472 - accuracy: 0.7259\n",
      "Epoch 6/24\n",
      "1220/1220 [==============================] - 269s 220ms/step - loss: 0.6190 - accuracy: 0.7364\n",
      "Epoch 7/24\n",
      "1220/1220 [==============================] - 269s 221ms/step - loss: 0.5957 - accuracy: 0.7463\n",
      "Epoch 8/24\n",
      "1220/1220 [==============================] - 270s 221ms/step - loss: 0.5779 - accuracy: 0.7496\n",
      "Epoch 9/24\n",
      "1220/1220 [==============================] - 274s 225ms/step - loss: 0.5579 - accuracy: 0.7566\n",
      "Epoch 10/24\n",
      "1220/1220 [==============================] - 295s 242ms/step - loss: 0.5409 - accuracy: 0.7612\n",
      "Epoch 11/24\n",
      "1220/1220 [==============================] - 281s 230ms/step - loss: 0.5213 - accuracy: 0.7680\n",
      "Epoch 12/24\n",
      "1220/1220 [==============================] - 287s 235ms/step - loss: 0.5086 - accuracy: 0.7722\n",
      "Epoch 13/24\n",
      "1220/1220 [==============================] - 290s 238ms/step - loss: 0.4942 - accuracy: 0.7767\n",
      "Epoch 14/24\n",
      "1220/1220 [==============================] - 284s 232ms/step - loss: 0.4819 - accuracy: 0.7804\n",
      "Epoch 15/24\n",
      "1220/1220 [==============================] - 276s 226ms/step - loss: 0.4711 - accuracy: 0.7837\n",
      "Epoch 16/24\n",
      "1220/1220 [==============================] - 296s 243ms/step - loss: 0.4598 - accuracy: 0.7873\n",
      "Epoch 17/24\n",
      "1220/1220 [==============================] - 291s 239ms/step - loss: 0.4471 - accuracy: 0.7905\n",
      "Epoch 18/24\n",
      "1220/1220 [==============================] - 272s 223ms/step - loss: 0.4365 - accuracy: 0.7953\n",
      "Epoch 19/24\n",
      "1220/1220 [==============================] - 272s 223ms/step - loss: 0.4325 - accuracy: 0.7949\n",
      "Epoch 20/24\n",
      "1220/1220 [==============================] - 271s 222ms/step - loss: 0.4219 - accuracy: 0.7988\n",
      "Epoch 21/24\n",
      "1220/1220 [==============================] - 272s 223ms/step - loss: 0.4143 - accuracy: 0.8015\n",
      "Epoch 22/24\n",
      "1220/1220 [==============================] - 271s 222ms/step - loss: 0.4081 - accuracy: 0.8029\n",
      "Epoch 23/24\n",
      "1220/1220 [==============================] - 270s 221ms/step - loss: 0.4015 - accuracy: 0.8042\n",
      "Epoch 24/24\n",
      "1220/1220 [==============================] - 272s 223ms/step - loss: 0.3952 - accuracy: 0.8076\n"
     ]
    },
    {
     "data": {
      "text/plain": [
       "<tensorflow.python.keras.callbacks.History at 0x206cb081bb0>"
      ]
     },
     "execution_count": 28,
     "metadata": {},
     "output_type": "execute_result"
    }
   ],
   "source": [
    "model2.fit(X_train, y_train, batch_size=128, epochs=24, verbose=1)"
   ]
  },
  {
   "cell_type": "code",
   "execution_count": null,
   "metadata": {},
   "outputs": [],
   "source": []
  },
  {
   "cell_type": "code",
   "execution_count": null,
   "metadata": {},
   "outputs": [],
   "source": []
  },
  {
   "cell_type": "code",
   "execution_count": 30,
   "metadata": {},
   "outputs": [
    {
     "name": "stdout",
     "output_type": "stream",
     "text": [
      "Model: \"sequential\"\n",
      "_________________________________________________________________\n",
      "Layer (type)                 Output Shape              Param #   \n",
      "=================================================================\n",
      "embedding (Embedding)        (None, 30, 128)           1587584   \n",
      "_________________________________________________________________\n",
      "lstm (LSTM)                  (None, 196)               254800    \n",
      "_________________________________________________________________\n",
      "dense (Dense)                (None, 5)                 985       \n",
      "=================================================================\n",
      "Total params: 1,843,369\n",
      "Trainable params: 1,843,369\n",
      "Non-trainable params: 0\n",
      "_________________________________________________________________\n",
      "None\n"
     ]
    }
   ],
   "source": [
    "#Bi-directional LSTM\n",
    "\n",
    "from keras.layers import Bidirectional\n",
    "\n",
    "EMBEDDING_DIM = 128\n",
    "a = len(tokenize.word_index)+1\n",
    "\n",
    "model3 = Sequential()\n",
    "model3.add(Embedding(a, EMBEDDING_DIM, input_length=max_len))\n",
    "\n",
    "model3.add(Bidirectional(LSTM(64, return_sequences=True)))\n",
    "model3.add(Bidirectional(LSTM(64)))\n",
    "\n",
    "model3.add(Dense(5, activation='softmax'))\n",
    "\n",
    "model3.compile(loss='sparse_categorical_crossentropy', optimizer='adam', metrics=['accuracy'])\n",
    "print(model.summary())"
   ]
  },
  {
   "cell_type": "code",
   "execution_count": 31,
   "metadata": {},
   "outputs": [
    {
     "name": "stdout",
     "output_type": "stream",
     "text": [
      "Epoch 1/24\n",
      "1220/1220 [==============================] - 138s 109ms/step - loss: 1.0749 - accuracy: 0.5693\n",
      "Epoch 2/24\n",
      "1220/1220 [==============================] - 141s 116ms/step - loss: 0.7823 - accuracy: 0.6778\n",
      "Epoch 3/24\n",
      "1220/1220 [==============================] - 135s 111ms/step - loss: 0.7149 - accuracy: 0.7029\n",
      "Epoch 4/24\n",
      "1220/1220 [==============================] - 135s 111ms/step - loss: 0.6670 - accuracy: 0.7213\n",
      "Epoch 5/24\n",
      "1220/1220 [==============================] - 134s 110ms/step - loss: 0.6319 - accuracy: 0.7322\n",
      "Epoch 6/24\n",
      "1220/1220 [==============================] - 135s 111ms/step - loss: 0.6023 - accuracy: 0.7424\n",
      "Epoch 7/24\n",
      "1220/1220 [==============================] - 133s 109ms/step - loss: 0.5775 - accuracy: 0.7499\n",
      "Epoch 8/24\n",
      "1220/1220 [==============================] - 136s 111ms/step - loss: 0.5541 - accuracy: 0.7560\n",
      "Epoch 9/24\n",
      "1220/1220 [==============================] - 136s 111ms/step - loss: 0.5332 - accuracy: 0.7641\n",
      "Epoch 10/24\n",
      "1220/1220 [==============================] - 136s 111ms/step - loss: 0.5123 - accuracy: 0.7713\n",
      "Epoch 11/24\n",
      "1220/1220 [==============================] - 135s 111ms/step - loss: 0.4935 - accuracy: 0.7769\n",
      "Epoch 12/24\n",
      "1220/1220 [==============================] - 137s 112ms/step - loss: 0.4759 - accuracy: 0.7825\n",
      "Epoch 13/24\n",
      "1220/1220 [==============================] - 137s 113ms/step - loss: 0.4614 - accuracy: 0.7862\n",
      "Epoch 14/24\n",
      "1220/1220 [==============================] - 136s 111ms/step - loss: 0.4496 - accuracy: 0.7894\n",
      "Epoch 15/24\n",
      "1220/1220 [==============================] - 137s 112ms/step - loss: 0.4343 - accuracy: 0.7953\n",
      "Epoch 16/24\n",
      "1220/1220 [==============================] - 137s 112ms/step - loss: 0.4240 - accuracy: 0.7974\n",
      "Epoch 17/24\n",
      "1220/1220 [==============================] - 137s 112ms/step - loss: 0.4134 - accuracy: 0.8010\n",
      "Epoch 18/24\n",
      "1220/1220 [==============================] - 138s 113ms/step - loss: 0.4071 - accuracy: 0.8038\n",
      "Epoch 19/24\n",
      "1220/1220 [==============================] - 136s 112ms/step - loss: 0.3920 - accuracy: 0.8082\n",
      "Epoch 20/24\n",
      "1220/1220 [==============================] - 139s 114ms/step - loss: 0.3870 - accuracy: 0.8090\n",
      "Epoch 21/24\n",
      "1220/1220 [==============================] - 137s 113ms/step - loss: 0.3797 - accuracy: 0.8121\n",
      "Epoch 22/24\n",
      "1220/1220 [==============================] - 138s 113ms/step - loss: 0.3700 - accuracy: 0.8145\n",
      "Epoch 23/24\n",
      "1220/1220 [==============================] - 136s 112ms/step - loss: 0.3688 - accuracy: 0.8136\n",
      "Epoch 24/24\n",
      "1220/1220 [==============================] - 138s 113ms/step - loss: 0.3580 - accuracy: 0.8175\n"
     ]
    },
    {
     "data": {
      "text/plain": [
       "<tensorflow.python.keras.callbacks.History at 0x206d5be6790>"
      ]
     },
     "execution_count": 31,
     "metadata": {},
     "output_type": "execute_result"
    }
   ],
   "source": [
    "model3.fit(X_train, y_train, batch_size=128, epochs=24, verbose=1)"
   ]
  },
  {
   "cell_type": "code",
   "execution_count": null,
   "metadata": {},
   "outputs": [],
   "source": []
  },
  {
   "cell_type": "code",
   "execution_count": 35,
   "metadata": {},
   "outputs": [
    {
     "name": "stdout",
     "output_type": "stream",
     "text": [
      "Model: \"sequential\"\n",
      "_________________________________________________________________\n",
      "Layer (type)                 Output Shape              Param #   \n",
      "=================================================================\n",
      "embedding (Embedding)        (None, 30, 128)           1587584   \n",
      "_________________________________________________________________\n",
      "lstm (LSTM)                  (None, 196)               254800    \n",
      "_________________________________________________________________\n",
      "dense (Dense)                (None, 5)                 985       \n",
      "=================================================================\n",
      "Total params: 1,843,369\n",
      "Trainable params: 1,843,369\n",
      "Non-trainable params: 0\n",
      "_________________________________________________________________\n",
      "None\n"
     ]
    }
   ],
   "source": [
    "#GRU\n",
    "\n",
    "from keras.layers.recurrent import GRU\n",
    "\n",
    "model4 = Sequential()\n",
    "\n",
    "model4.add(Embedding(a, EMBEDDING_DIM, input_length=max_len))\n",
    "\n",
    "model4.add(GRU(64))\n",
    "model4.add(Dense(5, activation='softmax'))\n",
    "\n",
    "model4.compile(loss='sparse_categorical_crossentropy', optimizer='adam', metrics=['accuracy'])\n",
    "print(model.summary())"
   ]
  },
  {
   "cell_type": "code",
   "execution_count": 34,
   "metadata": {},
   "outputs": [
    {
     "name": "stdout",
     "output_type": "stream",
     "text": [
      "Epoch 1/24\n",
      "1220/1220 [==============================] - 52s 41ms/step - loss: 1.0688 - accuracy: 0.57400s - loss: 1.0701 - ac\n",
      "Epoch 2/24\n",
      "1220/1220 [==============================] - 49s 41ms/step - loss: 0.7728 - accuracy: 0.6809\n",
      "Epoch 3/24\n",
      "1220/1220 [==============================] - 49s 40ms/step - loss: 0.6954 - accuracy: 0.7078\n",
      "Epoch 4/24\n",
      "1220/1220 [==============================] - 49s 41ms/step - loss: 0.6475 - accuracy: 0.7257\n",
      "Epoch 5/24\n",
      "1220/1220 [==============================] - 49s 41ms/step - loss: 0.6142 - accuracy: 0.7389\n",
      "Epoch 6/24\n",
      "1220/1220 [==============================] - 50s 41ms/step - loss: 0.5844 - accuracy: 0.7491\n",
      "Epoch 7/24\n",
      "1220/1220 [==============================] - 49s 41ms/step - loss: 0.5601 - accuracy: 0.7553\n",
      "Epoch 8/24\n",
      "1220/1220 [==============================] - 49s 40ms/step - loss: 0.5390 - accuracy: 0.7644\n",
      "Epoch 9/24\n",
      "1220/1220 [==============================] - 49s 40ms/step - loss: 0.5201 - accuracy: 0.7707\n",
      "Epoch 10/24\n",
      "1220/1220 [==============================] - 50s 41ms/step - loss: 0.5055 - accuracy: 0.77540s - loss: 0.5053 - accuracy\n",
      "Epoch 11/24\n",
      "1220/1220 [==============================] - 50s 41ms/step - loss: 0.4858 - accuracy: 0.7820\n",
      "Epoch 12/24\n",
      "1220/1220 [==============================] - 49s 40ms/step - loss: 0.4728 - accuracy: 0.7872\n",
      "Epoch 13/24\n",
      "1220/1220 [==============================] - 50s 41ms/step - loss: 0.4601 - accuracy: 0.7915\n",
      "Epoch 14/24\n",
      "1220/1220 [==============================] - 49s 40ms/step - loss: 0.4465 - accuracy: 0.7949\n",
      "Epoch 15/24\n",
      "1220/1220 [==============================] - 50s 41ms/step - loss: 0.4386 - accuracy: 0.7956\n",
      "Epoch 16/24\n",
      "1220/1220 [==============================] - 49s 40ms/step - loss: 0.4274 - accuracy: 0.7987\n",
      "Epoch 17/24\n",
      "1220/1220 [==============================] - 49s 41ms/step - loss: 0.4177 - accuracy: 0.8023\n",
      "Epoch 18/24\n",
      "1220/1220 [==============================] - 49s 41ms/step - loss: 0.4073 - accuracy: 0.8060\n",
      "Epoch 19/24\n",
      "1220/1220 [==============================] - 49s 41ms/step - loss: 0.4008 - accuracy: 0.8072\n",
      "Epoch 20/24\n",
      "1220/1220 [==============================] - 49s 40ms/step - loss: 0.3930 - accuracy: 0.8108\n",
      "Epoch 21/24\n",
      "1220/1220 [==============================] - 49s 41ms/step - loss: 0.3859 - accuracy: 0.8107\n",
      "Epoch 22/24\n",
      "1220/1220 [==============================] - 49s 41ms/step - loss: 0.3781 - accuracy: 0.8145\n",
      "Epoch 23/24\n",
      "1220/1220 [==============================] - 50s 41ms/step - loss: 0.3738 - accuracy: 0.8149\n",
      "Epoch 24/24\n",
      "1220/1220 [==============================] - 49s 40ms/step - loss: 0.3706 - accuracy: 0.8159\n"
     ]
    },
    {
     "data": {
      "text/plain": [
       "<tensorflow.python.keras.callbacks.History at 0x206e09b8d90>"
      ]
     },
     "execution_count": 34,
     "metadata": {},
     "output_type": "execute_result"
    }
   ],
   "source": [
    "model4.fit(X_train, y_train, batch_size=128, epochs=24, verbose=1)"
   ]
  },
  {
   "cell_type": "code",
   "execution_count": null,
   "metadata": {},
   "outputs": [],
   "source": []
  },
  {
   "cell_type": "code",
   "execution_count": 37,
   "metadata": {},
   "outputs": [
    {
     "name": "stdout",
     "output_type": "stream",
     "text": [
      "Model: \"sequential\"\n",
      "_________________________________________________________________\n",
      "Layer (type)                 Output Shape              Param #   \n",
      "=================================================================\n",
      "embedding (Embedding)        (None, 30, 128)           1587584   \n",
      "_________________________________________________________________\n",
      "lstm (LSTM)                  (None, 196)               254800    \n",
      "_________________________________________________________________\n",
      "dense (Dense)                (None, 5)                 985       \n",
      "=================================================================\n",
      "Total params: 1,843,369\n",
      "Trainable params: 1,843,369\n",
      "Non-trainable params: 0\n",
      "_________________________________________________________________\n",
      "None\n"
     ]
    }
   ],
   "source": [
    "#Bidirectional GRU\n",
    "\n",
    "from keras.layers import Dropout, SpatialDropout1D\n",
    "\n",
    "model5 = Sequential()\n",
    "\n",
    "model5.add(Embedding(a, EMBEDDING_DIM, input_length=max_len))\n",
    "model5.add(SpatialDropout1D(0.2))\n",
    "model5.add(Bidirectional(GRU(64)))\n",
    "model5.add(Dropout(0.2))\n",
    "model5.add(Dense(5, activation='softmax'))\n",
    "\n",
    "model5.compile(loss='sparse_categorical_crossentropy', optimizer='adam', metrics=['accuracy'])\n",
    "print(model.summary())"
   ]
  },
  {
   "cell_type": "code",
   "execution_count": 38,
   "metadata": {},
   "outputs": [
    {
     "name": "stdout",
     "output_type": "stream",
     "text": [
      "Epoch 1/24\n",
      "1220/1220 [==============================] - 109s 82ms/step - loss: 1.0805 - accuracy: 0.5707\n",
      "Epoch 2/24\n",
      "1220/1220 [==============================] - 99s 81ms/step - loss: 0.7982 - accuracy: 0.6712\n",
      "Epoch 3/24\n",
      "1220/1220 [==============================] - 99s 81ms/step - loss: 0.7314 - accuracy: 0.6972\n",
      "Epoch 4/24\n",
      "1220/1220 [==============================] - 98s 81ms/step - loss: 0.6838 - accuracy: 0.7139\n",
      "Epoch 5/24\n",
      "1220/1220 [==============================] - 95s 78ms/step - loss: 0.6542 - accuracy: 0.7253\n",
      "Epoch 6/24\n",
      "1220/1220 [==============================] - 96s 78ms/step - loss: 0.6363 - accuracy: 0.7319\n",
      "Epoch 7/24\n",
      "1220/1220 [==============================] - 94s 77ms/step - loss: 0.6115 - accuracy: 0.7402\n",
      "Epoch 8/24\n",
      "1220/1220 [==============================] - 97s 79ms/step - loss: 0.5930 - accuracy: 0.7478\n",
      "Epoch 9/24\n",
      "1220/1220 [==============================] - 96s 79ms/step - loss: 0.5764 - accuracy: 0.75481s - l\n",
      "Epoch 10/24\n",
      "1220/1220 [==============================] - 98s 80ms/step - loss: 0.5629 - accuracy: 0.7597\n",
      "Epoch 11/24\n",
      "1220/1220 [==============================] - 96s 78ms/step - loss: 0.5509 - accuracy: 0.7623\n",
      "Epoch 12/24\n",
      "1220/1220 [==============================] - 98s 80ms/step - loss: 0.5432 - accuracy: 0.7667\n",
      "Epoch 13/24\n",
      "1220/1220 [==============================] - 96s 79ms/step - loss: 0.5323 - accuracy: 0.7694\n",
      "Epoch 14/24\n",
      "1220/1220 [==============================] - 94s 77ms/step - loss: 0.5253 - accuracy: 0.7723\n",
      "Epoch 15/24\n",
      "1220/1220 [==============================] - 95s 78ms/step - loss: 0.5124 - accuracy: 0.7765\n",
      "Epoch 16/24\n",
      "1220/1220 [==============================] - 94s 77ms/step - loss: 0.5034 - accuracy: 0.7794\n",
      "Epoch 17/24\n",
      "1220/1220 [==============================] - 94s 77ms/step - loss: 0.4947 - accuracy: 0.7817\n",
      "Epoch 18/24\n",
      "1220/1220 [==============================] - 94s 77ms/step - loss: 0.4884 - accuracy: 0.7857\n",
      "Epoch 19/24\n",
      "1220/1220 [==============================] - 94s 77ms/step - loss: 0.4852 - accuracy: 0.7858\n",
      "Epoch 20/24\n",
      "1220/1220 [==============================] - 94s 77ms/step - loss: 0.4773 - accuracy: 0.7883\n",
      "Epoch 21/24\n",
      "1220/1220 [==============================] - 95s 78ms/step - loss: 0.4729 - accuracy: 0.7906\n",
      "Epoch 22/24\n",
      "1220/1220 [==============================] - 95s 78ms/step - loss: 0.4647 - accuracy: 0.7942\n",
      "Epoch 23/24\n",
      "1220/1220 [==============================] - 95s 78ms/step - loss: 0.4590 - accuracy: 0.7960\n",
      "Epoch 24/24\n",
      "1220/1220 [==============================] - 95s 77ms/step - loss: 0.4597 - accuracy: 0.7960\n"
     ]
    },
    {
     "data": {
      "text/plain": [
       "<tensorflow.python.keras.callbacks.History at 0x206e55ec910>"
      ]
     },
     "execution_count": 38,
     "metadata": {},
     "output_type": "execute_result"
    }
   ],
   "source": [
    "model5.fit(X_train, y_train, batch_size=128, epochs=24, verbose=1)"
   ]
  },
  {
   "cell_type": "code",
   "execution_count": null,
   "metadata": {},
   "outputs": [],
   "source": []
  },
  {
   "cell_type": "code",
   "execution_count": null,
   "metadata": {},
   "outputs": [],
   "source": []
  },
  {
   "cell_type": "code",
   "execution_count": null,
   "metadata": {},
   "outputs": [],
   "source": []
  },
  {
   "cell_type": "code",
   "execution_count": null,
   "metadata": {},
   "outputs": [],
   "source": []
  }
 ],
 "metadata": {
  "kernelspec": {
   "display_name": "Python 3",
   "language": "python",
   "name": "python3"
  },
  "language_info": {
   "codemirror_mode": {
    "name": "ipython",
    "version": 3
   },
   "file_extension": ".py",
   "mimetype": "text/x-python",
   "name": "python",
   "nbconvert_exporter": "python",
   "pygments_lexer": "ipython3",
   "version": "3.8.5"
  }
 },
 "nbformat": 4,
 "nbformat_minor": 4
}
